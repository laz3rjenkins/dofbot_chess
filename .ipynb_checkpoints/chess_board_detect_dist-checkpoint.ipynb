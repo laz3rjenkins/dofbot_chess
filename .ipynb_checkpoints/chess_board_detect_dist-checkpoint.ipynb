{
 "cells": [
  {
   "cell_type": "code",
   "execution_count": 1,
   "id": "17b3b934-73e5-4779-97d5-da19b4c0959e",
   "metadata": {},
   "outputs": [],
   "source": [
    "import cv2\n",
    "import numpy as np\n",
    "from typing import List\n",
    "from square_data import SquareData"
   ]
  },
  {
   "cell_type": "code",
   "execution_count": 2,
   "id": "17f65d38-1d17-4690-b238-70aef37346fe",
   "metadata": {},
   "outputs": [],
   "source": [
    "class ChessBoardDetector:\n",
    "    def __init__(self):\n",
    "        self.criteria = (cv2.TERM_CRITERIA_EPS + cv2.TERM_CRITERIA_MAX_ITER, 30, 0.001)\n",
    "        self.square_info = []\n",
    "\n",
    "    def drawSquare(self, img, corners):\n",
    "        corners = corners.reshape(-1, 2)\n",
    "        top_left = tuple(corners[0].ravel())\n",
    "        top_right = tuple(corners[8].ravel())\n",
    "        bottom_right = tuple(corners[-1].ravel())\n",
    "        bottom_left = tuple(corners[-9].ravel())\n",
    "        center = tuple([abs(int((top_left[0] + top_right[0]) / 2)), abs(int((top_right[1] + bottom_right[1]) / 2))])\n",
    "        top_side_len = abs(int(top_left[0] - top_right[0]))\n",
    "\n",
    "        pts = np.array([top_left, top_right, bottom_right, bottom_left], np.int32)\n",
    "        pts = pts.reshape((-1, 1, 2))\n",
    "\n",
    "        cv2.polylines(img, [pts], isClosed=True, color=(0, 0, 255), thickness=2)\n",
    "        cv2.circle(img, center, radius=5, color=(0, 0, 255), thickness=2)\n",
    "\n",
    "        return tuple([img, center, top_side_len])\n",
    "\n",
    "    def run(self):\n",
    "        cap = cv2.VideoCapture(0)\n",
    "\n",
    "        cv2.namedWindow('img', cv2.WINDOW_NORMAL)\n",
    "        cv2.resizeWindow('img', 1280, 760)\n",
    "\n",
    "        count = 0\n",
    "        while True:\n",
    "            ret, frame = cap.read()\n",
    "\n",
    "            frame = cv2.flip(frame, 1)\n",
    "            frame = draw_circle(frame)\n",
    "            if not ret:\n",
    "                break\n",
    "\n",
    "            gray = cv2.cvtColor(frame, cv2.COLOR_BGR2GRAY)\n",
    "\n",
    "            ret, corners = cv2.findChessboardCorners(gray, (9, 6), None)\n",
    "\n",
    "            if ret:\n",
    "                corners2 = cv2.cornerSubPix(gray, corners, (11, 11), (-1, -1), self.criteria)\n",
    "                frame, center, top_side_len = self.drawSquare(frame, corners2)\n",
    "\n",
    "            cv2.imshow('img', frame)\n",
    "            key = cv2.waitKey(1) & 0xFF\n",
    "\n",
    "            if count == 2:\n",
    "                get_shift_info(self.square_info)\n",
    "                break\n",
    "\n",
    "            if key == ord('p') and count < 2 and ret:\n",
    "                is_saved = cv2.imwrite(f\"chessboard/{count}_photo.png\", frame)\n",
    "                if is_saved:\n",
    "                    self.square_info.append(SquareData(center, top_side_len))\n",
    "                    count += 1\n",
    "                    print('Successfully saved')\n",
    "\n",
    "\n",
    "            if key == ord('q'):\n",
    "                break\n",
    "\n",
    "        cap.release()\n",
    "        cv2.destroyAllWindows()"
   ]
  },
  {
   "cell_type": "code",
   "execution_count": 3,
   "id": "ad062ce4-989b-4932-9ed8-38e09be0168d",
   "metadata": {},
   "outputs": [],
   "source": [
    "def get_shift_info(square_info: List):\n",
    "    start_dir = 70\n",
    "    f = 63\n",
    "\n",
    "    k = square_info[0].top_side_len / square_info[1].top_side_len\n",
    "    x = square_info[0].center[0] - square_info[1].center[0]\n",
    "    y = square_info[0].center[1] - square_info[1].center[1]\n",
    "\n",
    "    z_dist = k * start_dir - start_dir\n",
    "    x_dist = int(x * (start_dir + z_dist) / f ) // 10\n",
    "    y_dist = int(y * (start_dir + z_dist) / f) // 10\n",
    "\n",
    "    print(f\"По координате X: {x_dist}см\")\n",
    "    print(f\"По координате y: {y_dist}см\")\n",
    "    print(f\"Глубина: {z_dist}см\")"
   ]
  },
  {
   "cell_type": "code",
   "execution_count": 4,
   "id": "6576923d-5af0-4008-96e9-6a8094bf5bbe",
   "metadata": {},
   "outputs": [],
   "source": [
    "def draw_circle(frame):\n",
    "    cv2.circle(frame, (320, 240), radius=5, color=(0, 255, 0), thickness=2)\n",
    "    return frame"
   ]
  },
  {
   "cell_type": "code",
   "execution_count": 5,
   "id": "4c58107e-4a50-438b-99e2-ee7f61c49292",
   "metadata": {},
   "outputs": [],
   "source": [
    "if __name__ == \"__main__\":\n",
    "    chess_board_detector = ChessBoardDetector()\n",
    "    chess_board_detector.run()"
   ]
  }
 ],
 "metadata": {
  "kernelspec": {
   "display_name": "Python 3 (ipykernel)",
   "language": "python",
   "name": "python3"
  },
  "language_info": {
   "codemirror_mode": {
    "name": "ipython",
    "version": 3
   },
   "file_extension": ".py",
   "mimetype": "text/x-python",
   "name": "python",
   "nbconvert_exporter": "python",
   "pygments_lexer": "ipython3",
   "version": "3.11.2"
  }
 },
 "nbformat": 4,
 "nbformat_minor": 5
}
